{
 "cells": [
  {
   "cell_type": "markdown",
   "metadata": {},
   "source": [
    "# Stops, places and moves location analysis\n",
    "\n",
    "Definitions:\n",
    "- **Location data** is collected as a sequence of location samples with varying\n",
    "sample frequency and accuracy.\n",
    "- **Places** are locations of relevance to the user, such as home or workplace and\n",
    "are described by their coordinates and an ID.\n",
    "- **Stops** are specific visits to one of those places, described by their\n",
    "coordinates along with arrival and departure time. A stop is always associated\n",
    "with exactly one place while a place can be associated with many stops. Stops\n",
    "are always non-overlapping in time.\n",
    "- **Moves** are sequences of location points between stops and are described by\n",
    "departure and arrival time, origin and destination place and the distance of\n",
    "the move."
   ]
  },
  {
   "cell_type": "code",
   "execution_count": 1,
   "metadata": {},
   "outputs": [],
   "source": [
    "import numpy as np\n",
    "import pandas as pd\n",
    "import matplotlib.pyplot as plt\n",
    "from geopy.distance import geodesic\n",
    "from sklearn.cluster import DBSCAN\n",
    "import gmaps\n",
    "\n",
    "import sys\n",
    "sys.path.append(\"../\")\n",
    "from location import *\n",
    "\n",
    "# Keep data consistent, load from disk.\n",
    "LOAD_DATA_FROM_DISK = False"
   ]
  },
  {
   "cell_type": "code",
   "execution_count": 2,
   "metadata": {},
   "outputs": [],
   "source": [
    "def get_date(row):\n",
    "    return row.date()"
   ]
  },
  {
   "cell_type": "markdown",
   "metadata": {},
   "source": [
    "## Generate example data"
   ]
  },
  {
   "cell_type": "code",
   "execution_count": 3,
   "metadata": {},
   "outputs": [],
   "source": [
    "if LOAD_DATA_FROM_DISK:\n",
    "    df = pd.read_json('multi_date_data.json').T\n",
    "    df.datetime = pd.to_datetime(df.datetime, unit='ms')\n",
    "    df.date = df.datetime.dt.date.astype('datetime64[ns]')\n",
    "else:\n",
    "    # create data simulating 3 places (a,b,c)\n",
    "    a = (55.686381, 12.557155) # Blaagaards Plads\n",
    "    b = (55.666919, 12.536792) # Spaces\n",
    "    c = (55.688305, 12.561862) # Hulen\n",
    "\n",
    "    X = np.vstack([\n",
    "        # day 1: home, work, home, workout, home\n",
    "        np.array([a]*(60*8+30)),\n",
    "        np.array([np.linspace(a[0], b[0], 30), np.linspace(a[1], b[1], 30)]).T,\n",
    "        np.array([b]*(60*7+30)),\n",
    "        np.array([np.linspace(b[0], a[0], 30), np.linspace(b[1], a[1], 30)]).T,\n",
    "        np.array([a]*55),\n",
    "        np.array([np.linspace(a[0], c[0], 5), np.linspace(a[1], c[1], 5)]).T,\n",
    "        np.array([c]*55),\n",
    "        np.array([np.linspace(c[0], a[0], 5), np.linspace(c[1], a[1], 5)]).T,\n",
    "        np.array([a]*60*5),\n",
    "        # day 2: home, work, home\n",
    "        np.array([a]*(60*8+30)),\n",
    "        np.array([np.linspace(a[0], b[0], 30), np.linspace(a[1], b[1], 30)]).T,\n",
    "        np.array([b]*(60*7+30)),\n",
    "        np.array([np.linspace(b[0], a[0], 30), np.linspace(b[1], a[1], 30)]).T,\n",
    "        np.array([a]*60*7),\n",
    "        # day 3: home, workout, home\n",
    "        np.array([a]*(60*10+55)),\n",
    "        np.array([np.linspace(a[0], c[0], 5), np.linspace(a[1], c[1], 5)]).T,\n",
    "        np.array([c]*55),\n",
    "        np.array([np.linspace(c[0], a[0], 5), np.linspace(c[1], a[1], 5)]).T,\n",
    "        np.array([a]*60*12),\n",
    "        ])\n",
    "    \n",
    "    X += np.random.normal(loc=0, scale=0.00005, size=X.shape)\n",
    "    \n",
    "    df = pd.DataFrame(X, columns=['latitude', 'longitude'])\n",
    "    df.insert(0, 'user_id', 0)\n",
    "    df.insert(1, 'timestamp', np.arange(df.shape[0]) * 60000 + 1573430400000.0)\n",
    "    df.insert(2, 'datetime', pd.to_datetime(df.timestamp, unit='ms'))\n",
    "    df.insert(3, 'date', df.datetime.dt.date.astype('datetime64[ns]'))\n",
    "    \n",
    "    # Write to file\n",
    "    df.T.to_json('multi_date_data.json')\n",
    "    \n",
    "df.head()\n",
    "\n",
    "df.date = df.date.apply(get_date)"
   ]
  },
  {
   "cell_type": "code",
   "execution_count": 57,
   "metadata": {},
   "outputs": [
    {
     "data": {
      "text/plain": [
       "array([datetime.date(2019, 11, 11), datetime.date(2019, 11, 12),\n",
       "       datetime.date(2019, 11, 13)], dtype=object)"
      ]
     },
     "execution_count": 57,
     "metadata": {},
     "output_type": "execute_result"
    }
   ],
   "source": [
    "dates = np.unique(df.date.values)\n",
    "dates"
   ]
  },
  {
   "cell_type": "markdown",
   "metadata": {},
   "source": [
    "## Quick visualization of the 3 places visited"
   ]
  },
  {
   "cell_type": "code",
   "execution_count": 58,
   "metadata": {},
   "outputs": [
    {
     "data": {
      "image/png": "[encoded data removed]",
      "text/plain": [
       "<Figure size 576x576 with 1 Axes>"
      ]
     },
     "metadata": {
      "needs_background": "light"
     },
     "output_type": "display_data"
    }
   ],
   "source": [
    "plt.figure(figsize=(8,8))\n",
    "plt.plot(df.latitude.values, df.longitude.values, marker='.', alpha=1)\n",
    "plt.grid()\n",
    "plt.show()"
   ]
  },
  {
   "cell_type": "markdown",
   "metadata": {},
   "source": [
    "## Preprocessing (stops, places and moves)"
   ]
  },
  {
   "cell_type": "markdown",
   "metadata": {},
   "source": [
    "* A `stop` is a collection of stationary points\n",
    "* A `place` is a cluster of `stops` found using DBSCAN\n",
    "* A `move` is a transition from one `stop` to another."
   ]
  },
  {
   "cell_type": "code",
   "execution_count": 6,
   "metadata": {},
   "outputs": [],
   "source": [
    "stops, places, moves = get_stops_places_and_moves(df)\n",
    "stops['date'] = stops.arrival.apply(get_date)\n",
    "moves['date'] = moves.arrival.apply(get_date)"
   ]
  },
  {
   "cell_type": "code",
   "execution_count": 7,
   "metadata": {},
   "outputs": [
    {
     "data": {
      "text/html": [
       "<div>\n",
       "<style scoped>\n",
       "    .dataframe tbody tr th:only-of-type {\n",
       "        vertical-align: middle;\n",
       "    }\n",
       "\n",
       "    .dataframe tbody tr th {\n",
       "        vertical-align: top;\n",
       "    }\n",
       "\n",
       "    .dataframe thead th {\n",
       "        text-align: right;\n",
       "    }\n",
       "</style>\n",
       "<table border=\"1\" class=\"dataframe\">\n",
       "  <thead>\n",
       "    <tr style=\"text-align: right;\">\n",
       "      <th></th>\n",
       "      <th>user_id</th>\n",
       "      <th>latitude</th>\n",
       "      <th>longitude</th>\n",
       "      <th>samples</th>\n",
       "      <th>arrival</th>\n",
       "      <th>departure</th>\n",
       "      <th>duration</th>\n",
       "      <th>place</th>\n",
       "      <th>date</th>\n",
       "    </tr>\n",
       "  </thead>\n",
       "  <tbody>\n",
       "    <tr>\n",
       "      <th>0</th>\n",
       "      <td>0</td>\n",
       "      <td>55.686381</td>\n",
       "      <td>12.557161</td>\n",
       "      <td>511</td>\n",
       "      <td>2019-11-11 00:00:00</td>\n",
       "      <td>2019-11-11 08:30:00</td>\n",
       "      <td>510.0</td>\n",
       "      <td>0</td>\n",
       "      <td>2019-11-11</td>\n",
       "    </tr>\n",
       "    <tr>\n",
       "      <th>1</th>\n",
       "      <td>0</td>\n",
       "      <td>55.666914</td>\n",
       "      <td>12.536788</td>\n",
       "      <td>452</td>\n",
       "      <td>2019-11-11 08:59:00</td>\n",
       "      <td>2019-11-11 16:30:00</td>\n",
       "      <td>451.0</td>\n",
       "      <td>1</td>\n",
       "      <td>2019-11-11</td>\n",
       "    </tr>\n",
       "    <tr>\n",
       "      <th>2</th>\n",
       "      <td>0</td>\n",
       "      <td>55.686383</td>\n",
       "      <td>12.557170</td>\n",
       "      <td>57</td>\n",
       "      <td>2019-11-11 16:59:00</td>\n",
       "      <td>2019-11-11 17:55:00</td>\n",
       "      <td>56.0</td>\n",
       "      <td>0</td>\n",
       "      <td>2019-11-11</td>\n",
       "    </tr>\n",
       "    <tr>\n",
       "      <th>3</th>\n",
       "      <td>0</td>\n",
       "      <td>55.688303</td>\n",
       "      <td>12.561877</td>\n",
       "      <td>57</td>\n",
       "      <td>2019-11-11 17:59:00</td>\n",
       "      <td>2019-11-11 18:55:00</td>\n",
       "      <td>56.0</td>\n",
       "      <td>2</td>\n",
       "      <td>2019-11-11</td>\n",
       "    </tr>\n",
       "    <tr>\n",
       "      <th>4</th>\n",
       "      <td>0</td>\n",
       "      <td>55.686376</td>\n",
       "      <td>12.557154</td>\n",
       "      <td>812</td>\n",
       "      <td>2019-11-11 18:59:00</td>\n",
       "      <td>2019-11-12 08:30:00</td>\n",
       "      <td>811.0</td>\n",
       "      <td>0</td>\n",
       "      <td>2019-11-11</td>\n",
       "    </tr>\n",
       "    <tr>\n",
       "      <th>5</th>\n",
       "      <td>0</td>\n",
       "      <td>55.666921</td>\n",
       "      <td>12.536791</td>\n",
       "      <td>452</td>\n",
       "      <td>2019-11-12 08:59:00</td>\n",
       "      <td>2019-11-12 16:30:00</td>\n",
       "      <td>451.0</td>\n",
       "      <td>1</td>\n",
       "      <td>2019-11-12</td>\n",
       "    </tr>\n",
       "    <tr>\n",
       "      <th>6</th>\n",
       "      <td>0</td>\n",
       "      <td>55.686382</td>\n",
       "      <td>12.557154</td>\n",
       "      <td>1077</td>\n",
       "      <td>2019-11-12 16:59:00</td>\n",
       "      <td>2019-11-13 10:55:00</td>\n",
       "      <td>1076.0</td>\n",
       "      <td>0</td>\n",
       "      <td>2019-11-12</td>\n",
       "    </tr>\n",
       "    <tr>\n",
       "      <th>7</th>\n",
       "      <td>0</td>\n",
       "      <td>55.688310</td>\n",
       "      <td>12.561865</td>\n",
       "      <td>57</td>\n",
       "      <td>2019-11-13 10:59:00</td>\n",
       "      <td>2019-11-13 11:55:00</td>\n",
       "      <td>56.0</td>\n",
       "      <td>2</td>\n",
       "      <td>2019-11-13</td>\n",
       "    </tr>\n",
       "    <tr>\n",
       "      <th>8</th>\n",
       "      <td>0</td>\n",
       "      <td>55.686377</td>\n",
       "      <td>12.557154</td>\n",
       "      <td>721</td>\n",
       "      <td>2019-11-13 11:59:00</td>\n",
       "      <td>2019-11-13 23:59:00</td>\n",
       "      <td>720.0</td>\n",
       "      <td>0</td>\n",
       "      <td>2019-11-13</td>\n",
       "    </tr>\n",
       "  </tbody>\n",
       "</table>\n",
       "</div>"
      ],
      "text/plain": [
       "   user_id   latitude  longitude  samples             arrival  \\\n",
       "0        0  55.686381  12.557161      511 2019-11-11 00:00:00   \n",
       "1        0  55.666914  12.536788      452 2019-11-11 08:59:00   \n",
       "2        0  55.686383  12.557170       57 2019-11-11 16:59:00   \n",
       "3        0  55.688303  12.561877       57 2019-11-11 17:59:00   \n",
       "4        0  55.686376  12.557154      812 2019-11-11 18:59:00   \n",
       "5        0  55.666921  12.536791      452 2019-11-12 08:59:00   \n",
       "6        0  55.686382  12.557154     1077 2019-11-12 16:59:00   \n",
       "7        0  55.688310  12.561865       57 2019-11-13 10:59:00   \n",
       "8        0  55.686377  12.557154      721 2019-11-13 11:59:00   \n",
       "\n",
       "            departure  duration  place        date  \n",
       "0 2019-11-11 08:30:00     510.0      0  2019-11-11  \n",
       "1 2019-11-11 16:30:00     451.0      1  2019-11-11  \n",
       "2 2019-11-11 17:55:00      56.0      0  2019-11-11  \n",
       "3 2019-11-11 18:55:00      56.0      2  2019-11-11  \n",
       "4 2019-11-12 08:30:00     811.0      0  2019-11-11  \n",
       "5 2019-11-12 16:30:00     451.0      1  2019-11-12  \n",
       "6 2019-11-13 10:55:00    1076.0      0  2019-11-12  \n",
       "7 2019-11-13 11:55:00      56.0      2  2019-11-13  \n",
       "8 2019-11-13 23:59:00     720.0      0  2019-11-13  "
      ]
     },
     "execution_count": 7,
     "metadata": {},
     "output_type": "execute_result"
    }
   ],
   "source": [
    "stops"
   ]
  },
  {
   "cell_type": "code",
   "execution_count": 8,
   "metadata": {},
   "outputs": [
    {
     "data": {
      "text/html": [
       "<div>\n",
       "<style scoped>\n",
       "    .dataframe tbody tr th:only-of-type {\n",
       "        vertical-align: middle;\n",
       "    }\n",
       "\n",
       "    .dataframe tbody tr th {\n",
       "        vertical-align: top;\n",
       "    }\n",
       "\n",
       "    .dataframe thead th {\n",
       "        text-align: right;\n",
       "    }\n",
       "</style>\n",
       "<table border=\"1\" class=\"dataframe\">\n",
       "  <thead>\n",
       "    <tr style=\"text-align: right;\">\n",
       "      <th></th>\n",
       "      <th>user_id</th>\n",
       "      <th>place</th>\n",
       "      <th>latitude</th>\n",
       "      <th>longitude</th>\n",
       "      <th>duration</th>\n",
       "      <th>stops</th>\n",
       "    </tr>\n",
       "  </thead>\n",
       "  <tbody>\n",
       "    <tr>\n",
       "      <th>0</th>\n",
       "      <td>0</td>\n",
       "      <td>0</td>\n",
       "      <td>55.686381</td>\n",
       "      <td>12.557154</td>\n",
       "      <td>3173.0</td>\n",
       "      <td>5</td>\n",
       "    </tr>\n",
       "    <tr>\n",
       "      <th>1</th>\n",
       "      <td>0</td>\n",
       "      <td>1</td>\n",
       "      <td>55.666918</td>\n",
       "      <td>12.536790</td>\n",
       "      <td>902.0</td>\n",
       "      <td>2</td>\n",
       "    </tr>\n",
       "    <tr>\n",
       "      <th>2</th>\n",
       "      <td>0</td>\n",
       "      <td>2</td>\n",
       "      <td>55.688307</td>\n",
       "      <td>12.561871</td>\n",
       "      <td>112.0</td>\n",
       "      <td>2</td>\n",
       "    </tr>\n",
       "  </tbody>\n",
       "</table>\n",
       "</div>"
      ],
      "text/plain": [
       "   user_id  place   latitude  longitude  duration  stops\n",
       "0        0      0  55.686381  12.557154    3173.0      5\n",
       "1        0      1  55.666918  12.536790     902.0      2\n",
       "2        0      2  55.688307  12.561871     112.0      2"
      ]
     },
     "execution_count": 8,
     "metadata": {},
     "output_type": "execute_result"
    }
   ],
   "source": [
    "places"
   ]
  },
  {
   "cell_type": "code",
   "execution_count": 9,
   "metadata": {},
   "outputs": [
    {
     "data": {
      "text/html": [
       "<div>\n",
       "<style scoped>\n",
       "    .dataframe tbody tr th:only-of-type {\n",
       "        vertical-align: middle;\n",
       "    }\n",
       "\n",
       "    .dataframe tbody tr th {\n",
       "        vertical-align: top;\n",
       "    }\n",
       "\n",
       "    .dataframe thead th {\n",
       "        text-align: right;\n",
       "    }\n",
       "</style>\n",
       "<table border=\"1\" class=\"dataframe\">\n",
       "  <thead>\n",
       "    <tr style=\"text-align: right;\">\n",
       "      <th></th>\n",
       "      <th>user_id</th>\n",
       "      <th>from_latitude</th>\n",
       "      <th>from_longitude</th>\n",
       "      <th>to_latitude</th>\n",
       "      <th>to_longitude</th>\n",
       "      <th>samples</th>\n",
       "      <th>departure</th>\n",
       "      <th>arrival</th>\n",
       "      <th>from_place</th>\n",
       "      <th>to_place</th>\n",
       "      <th>distance</th>\n",
       "      <th>duration</th>\n",
       "      <th>mean_speed</th>\n",
       "      <th>date</th>\n",
       "    </tr>\n",
       "  </thead>\n",
       "  <tbody>\n",
       "    <tr>\n",
       "      <th>0</th>\n",
       "      <td>0</td>\n",
       "      <td>55.686350</td>\n",
       "      <td>12.557288</td>\n",
       "      <td>55.666931</td>\n",
       "      <td>12.536812</td>\n",
       "      <td>30</td>\n",
       "      <td>2019-11-11 08:30:00</td>\n",
       "      <td>2019-11-11 08:59:00</td>\n",
       "      <td>0.0</td>\n",
       "      <td>1.0</td>\n",
       "      <td>2520.430627</td>\n",
       "      <td>29.0</td>\n",
       "      <td>1.448523</td>\n",
       "      <td>2019-11-11</td>\n",
       "    </tr>\n",
       "    <tr>\n",
       "      <th>1</th>\n",
       "      <td>0</td>\n",
       "      <td>55.666994</td>\n",
       "      <td>12.536835</td>\n",
       "      <td>55.686413</td>\n",
       "      <td>12.557147</td>\n",
       "      <td>30</td>\n",
       "      <td>2019-11-11 16:30:00</td>\n",
       "      <td>2019-11-11 16:59:00</td>\n",
       "      <td>1.0</td>\n",
       "      <td>0.0</td>\n",
       "      <td>2516.562350</td>\n",
       "      <td>29.0</td>\n",
       "      <td>1.446300</td>\n",
       "      <td>2019-11-11</td>\n",
       "    </tr>\n",
       "    <tr>\n",
       "      <th>2</th>\n",
       "      <td>0</td>\n",
       "      <td>55.686326</td>\n",
       "      <td>12.557210</td>\n",
       "      <td>55.666843</td>\n",
       "      <td>12.536827</td>\n",
       "      <td>30</td>\n",
       "      <td>2019-11-12 08:30:00</td>\n",
       "      <td>2019-11-12 08:59:00</td>\n",
       "      <td>0.0</td>\n",
       "      <td>1.0</td>\n",
       "      <td>2523.909200</td>\n",
       "      <td>29.0</td>\n",
       "      <td>1.450523</td>\n",
       "      <td>2019-11-12</td>\n",
       "    </tr>\n",
       "    <tr>\n",
       "      <th>3</th>\n",
       "      <td>0</td>\n",
       "      <td>55.666941</td>\n",
       "      <td>12.536796</td>\n",
       "      <td>55.686385</td>\n",
       "      <td>12.557099</td>\n",
       "      <td>30</td>\n",
       "      <td>2019-11-12 16:30:00</td>\n",
       "      <td>2019-11-12 16:59:00</td>\n",
       "      <td>1.0</td>\n",
       "      <td>0.0</td>\n",
       "      <td>2518.612156</td>\n",
       "      <td>29.0</td>\n",
       "      <td>1.447478</td>\n",
       "      <td>2019-11-12</td>\n",
       "    </tr>\n",
       "  </tbody>\n",
       "</table>\n",
       "</div>"
      ],
      "text/plain": [
       "   user_id  from_latitude  from_longitude  to_latitude  to_longitude  samples  \\\n",
       "0        0      55.686350       12.557288    55.666931     12.536812       30   \n",
       "1        0      55.666994       12.536835    55.686413     12.557147       30   \n",
       "2        0      55.686326       12.557210    55.666843     12.536827       30   \n",
       "3        0      55.666941       12.536796    55.686385     12.557099       30   \n",
       "\n",
       "            departure             arrival  from_place  to_place     distance  \\\n",
       "0 2019-11-11 08:30:00 2019-11-11 08:59:00         0.0       1.0  2520.430627   \n",
       "1 2019-11-11 16:30:00 2019-11-11 16:59:00         1.0       0.0  2516.562350   \n",
       "2 2019-11-12 08:30:00 2019-11-12 08:59:00         0.0       1.0  2523.909200   \n",
       "3 2019-11-12 16:30:00 2019-11-12 16:59:00         1.0       0.0  2518.612156   \n",
       "\n",
       "   duration  mean_speed        date  \n",
       "0      29.0    1.448523  2019-11-11  \n",
       "1      29.0    1.446300  2019-11-11  \n",
       "2      29.0    1.450523  2019-11-12  \n",
       "3      29.0    1.447478  2019-11-12  "
      ]
     },
     "execution_count": 9,
     "metadata": {},
     "output_type": "execute_result"
    }
   ],
   "source": [
    "moves"
   ]
  },
  {
   "cell_type": "markdown",
   "metadata": {},
   "source": [
    "### Visualizing the clusters and moves"
   ]
  },
  {
   "cell_type": "code",
   "execution_count": 59,
   "metadata": {},
   "outputs": [
    {
     "data": {
      "image/png": "[encoded data removed]",
      "text/plain": [
       "<Figure size 576x576 with 1 Axes>"
      ]
     },
     "metadata": {
      "needs_background": "light"
     },
     "output_type": "display_data"
    }
   ],
   "source": [
    "plt.figure(figsize=(8,8))\n",
    "plt.plot(df.longitude.values, df.latitude.values, marker='.', alpha=.2)\n",
    "plt.scatter(stops.longitude.values, stops.latitude.values, marker='d', color='r', zorder=10, alpha=.5)\n",
    "plt.scatter(places.longitude.values, places.latitude.values, s=1000, facecolors='none', edgecolors='r')\n",
    "for index, move in moves.iterrows():\n",
    "    plt.plot([move.from_longitude, move.to_longitude], [move.from_latitude, move.to_latitude], color='r')\n",
    "plt.grid()\n",
    "plt.show()"
   ]
  },
  {
   "cell_type": "markdown",
   "metadata": {},
   "source": [
    "# Features\n",
    "\n",
    "## Number of clusters \n",
    "This feature represents the total number of clusters found by the clustering algorithm."
   ]
  },
  {
   "cell_type": "code",
   "execution_count": 60,
   "metadata": {},
   "outputs": [],
   "source": [
    "def number_of_clusters(places):\n",
    "    return len(places)"
   ]
  },
  {
   "cell_type": "code",
   "execution_count": 61,
   "metadata": {},
   "outputs": [
    {
     "data": {
      "text/plain": [
       "3"
      ]
     },
     "execution_count": 61,
     "metadata": {},
     "output_type": "execute_result"
    }
   ],
   "source": [
    "number_of_clusters(places)"
   ]
  },
  {
   "cell_type": "markdown",
   "metadata": {},
   "source": [
    "## Location Variance: \n",
    "This feature measures the variability of a participant’s location data from stationary states. LV was computed as the natural logarithm of the sum of the statistical variances of the latitude and the longitude components of the location data."
   ]
  },
  {
   "cell_type": "code",
   "execution_count": 62,
   "metadata": {},
   "outputs": [],
   "source": [
    "def location_variance(df):\n",
    "    # If fewer than 2 observations, we can't compute the variance\n",
    "    if len(df) < 2:\n",
    "        return 0.0\n",
    "    return np.log(df.latitude.var() + df.longitude.var() + 1)"
   ]
  },
  {
   "cell_type": "code",
   "execution_count": 63,
   "metadata": {},
   "outputs": [
    {
     "data": {
      "text/plain": [
       "0.00013597465949774686"
      ]
     },
     "execution_count": 63,
     "metadata": {},
     "output_type": "execute_result"
    }
   ],
   "source": [
    "location_variance(df)"
   ]
  },
  {
   "cell_type": "markdown",
   "metadata": {},
   "source": [
    "## Location Entropy (LE): \n",
    "_A measure of points of interest. High entropy indicates that the participant spent time more uniformly across different location clusters, while lower entropy indicates the participant spent most of the time at some specific clusters. Concretely it is calculated as:_\n",
    "\n",
    "$$Entropy = - \\sum_{i=1}^N p_i \\cdot \\log p_i$$\n",
    "\n",
    "_where each i represents a location cluster, N denotes the total number of location clusters, and pi is the percentage of time the participant spent at the location cluster i. High cluster entropy indicates that the participant spent time more uniformly across different location clusters, while lower cluster entropy indicates the participant spent most of the time at some specific clusters._\n",
    "\n",
    "Here, we use the duration spent at each place, found in the `duration` column in the `places` dataframe."
   ]
  },
  {
   "cell_type": "code",
   "execution_count": 64,
   "metadata": {},
   "outputs": [],
   "source": [
    "def _entropy(durations):\n",
    "    p = durations / np.sum(durations)\n",
    "    return -np.sum(p * np.log(p))"
   ]
  },
  {
   "cell_type": "code",
   "execution_count": 65,
   "metadata": {},
   "outputs": [
    {
     "data": {
      "text/plain": [
       "0.6377255748619863"
      ]
     },
     "execution_count": 65,
     "metadata": {},
     "output_type": "execute_result"
    }
   ],
   "source": [
    "_entropy(places.duration)"
   ]
  },
  {
   "cell_type": "code",
   "execution_count": 66,
   "metadata": {},
   "outputs": [
    {
     "data": {
      "text/plain": [
       "0.6377255748619863"
      ]
     },
     "execution_count": 66,
     "metadata": {},
     "output_type": "execute_result"
    }
   ],
   "source": [
    "# NumPy for reference:\n",
    "\n",
    "from scipy.stats import entropy\n",
    "entropy(places.duration)"
   ]
  },
  {
   "cell_type": "markdown",
   "metadata": {},
   "source": [
    "## Normalized LE: \n",
    "_Normalized entropy is calculated by dividing the cluster entropy by its maximum value, which is the logarithm of the total number of clusters. Normalized entropy is invariant to the number of clusters and thus solely depends on their visiting distribution. The value of normalized entropy ranges from 0 to 1, where 0 indicates the participant has spent their time at only one location, and 1 indicates that the participant has spent an equal amount of time to visit each location cluster._\n",
    "\n",
    "Here we just divide by the log to the number of places."
   ]
  },
  {
   "cell_type": "code",
   "execution_count": 67,
   "metadata": {},
   "outputs": [],
   "source": [
    "def normalized_entropy(durations):\n",
    "    return entropy(durations) / np.log(len(durations))"
   ]
  },
  {
   "cell_type": "code",
   "execution_count": 68,
   "metadata": {},
   "outputs": [
    {
     "data": {
      "text/plain": [
       "0.5804828340625297"
      ]
     },
     "execution_count": 68,
     "metadata": {},
     "output_type": "execute_result"
    }
   ],
   "source": [
    "normalized_entropy(places.duration)"
   ]
  },
  {
   "cell_type": "markdown",
   "metadata": {},
   "source": [
    "## Transition Time: \n",
    "_Transition Time measures the percentage of time the participant has been in the transition state._\n",
    "\n",
    "A few ways of doing this, but one is using the `moves` dataframe and simply summing the `duration` column, and dividing by 24 hours."
   ]
  },
  {
   "cell_type": "code",
   "execution_count": 69,
   "metadata": {},
   "outputs": [],
   "source": [
    "def transition_time(moves):\n",
    "    move_time = moves.duration.sum()\n",
    "    return move_time / (24 * 60)"
   ]
  },
  {
   "cell_type": "code",
   "execution_count": 70,
   "metadata": {},
   "outputs": [
    {
     "data": {
      "text/plain": [
       "0.08055555555555556"
      ]
     },
     "execution_count": 70,
     "metadata": {},
     "output_type": "execute_result"
    }
   ],
   "source": [
    "transition_time(moves)"
   ]
  },
  {
   "cell_type": "markdown",
   "metadata": {},
   "source": [
    "# Total Distance: \n",
    "_This feature measures the total distance the participant has traveled in the transition state._\n",
    "\n",
    "Here we simply sum the `distance` column in the `moves` dataframe."
   ]
  },
  {
   "cell_type": "code",
   "execution_count": 71,
   "metadata": {},
   "outputs": [],
   "source": [
    "def total_distance(moves):\n",
    "    return moves.distance.sum()"
   ]
  },
  {
   "cell_type": "code",
   "execution_count": 72,
   "metadata": {},
   "outputs": [
    {
     "data": {
      "text/plain": [
       "10079.514332342535"
      ]
     },
     "execution_count": 72,
     "metadata": {},
     "output_type": "execute_result"
    }
   ],
   "source": [
    "total_distance(moves)"
   ]
  },
  {
   "cell_type": "markdown",
   "metadata": {},
   "source": [
    "## Routine Index"
   ]
  },
  {
   "cell_type": "code",
   "execution_count": 73,
   "metadata": {},
   "outputs": [],
   "source": [
    "HOURS_IN_A_DAY = 24\n",
    "\n",
    "def print_hour_matrix(M):\n",
    "    for i, row in enumerate(M):\n",
    "        line = \"[{:0>2} - {:0>2}] \".format(i, i+1)\n",
    "        for e in row:\n",
    "            line += '%0.2f ' % e\n",
    "        print(line)\n",
    "\n",
    "def make_hour_matrix(stops, num_places):\n",
    "    h = np.zeros((HOURS_IN_A_DAY, num_places))\n",
    "    \n",
    "    for index, row in stops.iterrows():\n",
    "        pid = row.place\n",
    "        start_hour = row.arrival.hour\n",
    "        end_hour   = row.departure.hour\n",
    "        \n",
    "        # If user arrived and departed within the same hour\n",
    "        # Then the time stayed is the diff between departure and arrival\n",
    "        if start_hour == end_hour:\n",
    "            h[start_hour, pid] = row.departure.minute - row.arrival.minute\n",
    "        \n",
    "        else:\n",
    "            # Arrival hour\n",
    "            h[start_hour, pid] = 60 - row.arrival.minute\n",
    "\n",
    "            # In between\n",
    "            for hour in range(start_hour+1, end_hour):\n",
    "                h[hour, pid] = 60\n",
    "\n",
    "            # Departure hour\n",
    "            h[end_hour, pid] = row.departure.minute\n",
    "        \n",
    "    return h / 60 # Normalize by 60 mins"
   ]
  },
  {
   "cell_type": "code",
   "execution_count": 74,
   "metadata": {},
   "outputs": [],
   "source": [
    "# Plot a matrix as a color map\n",
    "def matrix_plot(m):\n",
    "    plt.figure(figsize=(10,10))\n",
    "    plt.imshow(m, cmap='bone')\n",
    "    plt.title('Hour matrix')\n",
    "    plt.xlabel('Place ID')\n",
    "    plt.ylabel('Timeslot')\n",
    "    plt.yticks(range(HOURS_IN_A_DAY), [\"[{:0>2} - {:0>2}] \".format(i, i+1) for i in range(HOURS_IN_A_DAY)])\n",
    "    plt.xticks(range(m.shape[1]))\n",
    "    plt.show()"
   ]
  },
  {
   "cell_type": "code",
   "execution_count": 75,
   "metadata": {},
   "outputs": [
    {
     "data": {
      "text/html": [
       "<div>\n",
       "<style scoped>\n",
       "    .dataframe tbody tr th:only-of-type {\n",
       "        vertical-align: middle;\n",
       "    }\n",
       "\n",
       "    .dataframe tbody tr th {\n",
       "        vertical-align: top;\n",
       "    }\n",
       "\n",
       "    .dataframe thead th {\n",
       "        text-align: right;\n",
       "    }\n",
       "</style>\n",
       "<table border=\"1\" class=\"dataframe\">\n",
       "  <thead>\n",
       "    <tr style=\"text-align: right;\">\n",
       "      <th></th>\n",
       "      <th>user_id</th>\n",
       "      <th>latitude</th>\n",
       "      <th>longitude</th>\n",
       "      <th>samples</th>\n",
       "      <th>arrival</th>\n",
       "      <th>departure</th>\n",
       "      <th>duration</th>\n",
       "      <th>place</th>\n",
       "      <th>date</th>\n",
       "    </tr>\n",
       "  </thead>\n",
       "  <tbody>\n",
       "    <tr>\n",
       "      <th>0</th>\n",
       "      <td>0</td>\n",
       "      <td>55.686381</td>\n",
       "      <td>12.557161</td>\n",
       "      <td>511</td>\n",
       "      <td>2019-11-11 00:00:00</td>\n",
       "      <td>2019-11-11 08:30:00</td>\n",
       "      <td>510.0</td>\n",
       "      <td>0</td>\n",
       "      <td>2019-11-11</td>\n",
       "    </tr>\n",
       "    <tr>\n",
       "      <th>1</th>\n",
       "      <td>0</td>\n",
       "      <td>55.666914</td>\n",
       "      <td>12.536788</td>\n",
       "      <td>452</td>\n",
       "      <td>2019-11-11 08:59:00</td>\n",
       "      <td>2019-11-11 16:30:00</td>\n",
       "      <td>451.0</td>\n",
       "      <td>1</td>\n",
       "      <td>2019-11-11</td>\n",
       "    </tr>\n",
       "    <tr>\n",
       "      <th>2</th>\n",
       "      <td>0</td>\n",
       "      <td>55.686383</td>\n",
       "      <td>12.557170</td>\n",
       "      <td>57</td>\n",
       "      <td>2019-11-11 16:59:00</td>\n",
       "      <td>2019-11-11 17:55:00</td>\n",
       "      <td>56.0</td>\n",
       "      <td>0</td>\n",
       "      <td>2019-11-11</td>\n",
       "    </tr>\n",
       "    <tr>\n",
       "      <th>3</th>\n",
       "      <td>0</td>\n",
       "      <td>55.688303</td>\n",
       "      <td>12.561877</td>\n",
       "      <td>57</td>\n",
       "      <td>2019-11-11 17:59:00</td>\n",
       "      <td>2019-11-11 18:55:00</td>\n",
       "      <td>56.0</td>\n",
       "      <td>2</td>\n",
       "      <td>2019-11-11</td>\n",
       "    </tr>\n",
       "    <tr>\n",
       "      <th>4</th>\n",
       "      <td>0</td>\n",
       "      <td>55.686376</td>\n",
       "      <td>12.557154</td>\n",
       "      <td>812</td>\n",
       "      <td>2019-11-11 18:59:00</td>\n",
       "      <td>2019-11-12 08:30:00</td>\n",
       "      <td>811.0</td>\n",
       "      <td>0</td>\n",
       "      <td>2019-11-11</td>\n",
       "    </tr>\n",
       "  </tbody>\n",
       "</table>\n",
       "</div>"
      ],
      "text/plain": [
       "   user_id   latitude  longitude  samples             arrival  \\\n",
       "0        0  55.686381  12.557161      511 2019-11-11 00:00:00   \n",
       "1        0  55.666914  12.536788      452 2019-11-11 08:59:00   \n",
       "2        0  55.686383  12.557170       57 2019-11-11 16:59:00   \n",
       "3        0  55.688303  12.561877       57 2019-11-11 17:59:00   \n",
       "4        0  55.686376  12.557154      812 2019-11-11 18:59:00   \n",
       "\n",
       "            departure  duration  place        date  \n",
       "0 2019-11-11 08:30:00     510.0      0  2019-11-11  \n",
       "1 2019-11-11 16:30:00     451.0      1  2019-11-11  \n",
       "2 2019-11-11 17:55:00      56.0      0  2019-11-11  \n",
       "3 2019-11-11 18:55:00      56.0      2  2019-11-11  \n",
       "4 2019-11-12 08:30:00     811.0      0  2019-11-11  "
      ]
     },
     "execution_count": 75,
     "metadata": {},
     "output_type": "execute_result"
    }
   ],
   "source": [
    "s1 = stops[stops.date == dates[0]]\n",
    "s1"
   ]
  },
  {
   "cell_type": "code",
   "execution_count": 76,
   "metadata": {},
   "outputs": [
    {
     "data": {
      "image/png": "[encoded data removed]",
      "text/plain": [
       "<Figure size 720x720 with 1 Axes>"
      ]
     },
     "metadata": {
      "needs_background": "light"
     },
     "output_type": "display_data"
    }
   ],
   "source": [
    "h1 = make_hour_matrix(s1, len(places))\n",
    "matrix_plot(h1)"
   ]
  },
  {
   "cell_type": "code",
   "execution_count": 77,
   "metadata": {},
   "outputs": [],
   "source": [
    "def RI(h_mean, h, end_hour=24):\n",
    "    '''\n",
    "    input:\n",
    "        h_mean (2d matrix): Historical Mean Matrix\n",
    "        h (2d matrix): Hour Matrix for a day\n",
    "    \n",
    "    output:\n",
    "        routine_index: -1 (could not be calculated) or [0 to 1]. \n",
    "    '''\n",
    "    if h_mean.sum() == 0:\n",
    "        return -1.0 # no routine index could be calculated\n",
    "    \n",
    "    assert(h_mean.shape == h.shape)\n",
    "    \n",
    "    m,n = h.shape\n",
    "    \n",
    "    overlap = 0.0\n",
    "    for i in range(m):\n",
    "        for j in range(n):\n",
    "            overlap += min(h_mean[i,j], h[i,j])\n",
    "            \n",
    "    max_overlap = min(h_mean.sum(), h.sum())\n",
    "    \n",
    "    return overlap / max_overlap"
   ]
  },
  {
   "cell_type": "markdown",
   "metadata": {},
   "source": [
    "## Using todays stops and historical stops to calculate routine index\n",
    "I.e. no updating of routine matrix, always recalculate it."
   ]
  },
  {
   "cell_type": "code",
   "execution_count": 78,
   "metadata": {},
   "outputs": [
    {
     "name": "stdout",
     "output_type": "stream",
     "text": [
      "Date: 2019-11-11\n",
      "Date: 2019-11-12\n",
      "Date: 2019-11-13\n"
     ]
    }
   ],
   "source": [
    "STOPS = {}\n",
    "for date in dates:\n",
    "    print('Date:', date)\n",
    "    # Select data by date\n",
    "    data = df[df.date == date]\n",
    "    \n",
    "    # Find stops, moves, places\n",
    "    S, P, M = get_stops_places_and_moves_daily(data, merge=False, move_duration=3)\n",
    "    \n",
    "    # Store them\n",
    "    STOPS[date] = S"
   ]
  },
  {
   "cell_type": "code",
   "execution_count": 79,
   "metadata": {},
   "outputs": [],
   "source": [
    "def plot_today_and_routine(today, routine, routine_after, save=False):\n",
    "    interval_strings = [\"[{:0>2} - {:0>2}] \".format(i, i+1) for i in range(HOURS_IN_A_DAY)]\n",
    "    \n",
    "    f, (ax1, ax2, ax3) = plt.subplots(1, 3)\n",
    "    f.set_size_inches((10,10))\n",
    "\n",
    "    \n",
    "    ax1.imshow(routine, cmap='bone')\n",
    "    ax1.set_title('Routine')\n",
    "    ax1.set_xlabel('Place ID')\n",
    "    ax1.set_ylabel('Timeslot')\n",
    "    ax1.set_yticks(range(HOURS_IN_A_DAY))\n",
    "    ax1.set_yticklabels(interval_strings)\n",
    "    ax1.set_xticks(range(routine.shape[1]))\n",
    "    \n",
    "    ax2.imshow(today, cmap='bone')\n",
    "    ax2.set_title('Today')\n",
    "    ax2.set_xlabel('Place ID')\n",
    "    ax2.set_ylabel('Timeslot')\n",
    "    ax2.set_yticks(range(HOURS_IN_A_DAY))\n",
    "    ax2.set_yticklabels(interval_strings)\n",
    "    ax2.set_xticks(range(today.shape[1]))\n",
    "    \n",
    "    ax3.imshow(routine_after, cmap='bone')\n",
    "    ax3.set_title('Updated Routine')\n",
    "    ax3.set_xlabel('Place ID')\n",
    "    ax3.set_ylabel('Timeslot')\n",
    "    ax3.set_yticks(range(HOURS_IN_A_DAY))\n",
    "    ax3.set_yticklabels(interval_strings)\n",
    "    ax3.set_xticks(range(routine_after.shape[1]))\n",
    "    \n",
    "    if save:\n",
    "        plt.savefig('routine.png')\n",
    "    plt.show()"
   ]
  },
  {
   "cell_type": "code",
   "execution_count": 80,
   "metadata": {},
   "outputs": [],
   "source": [
    "DISTF = lambda a, b: geodesic(a, b).meters\n",
    "\n",
    "def get_places_2(stops, dist=25, distf=DISTF):\n",
    "    if stops.empty:\n",
    "        stops['place'] = []\n",
    "        places = pd.DataFrame(columns=['user_id', 'place', 'latitude', 'longitude', 'duration', 'stops'])\n",
    "    else:\n",
    "        points = stops[['latitude', 'longitude']].values\n",
    "        dbs = DBSCAN(dist, min_samples=1, metric=distf).fit(points)\n",
    "        stops['place'] = dbs.labels_\n",
    "        places = stops.groupby('place').agg({\n",
    "            'latitude': np.median,\n",
    "            'longitude': np.median,\n",
    "            'duration': np.sum,\n",
    "            'samples': len,\n",
    "        }).reset_index()\n",
    "        places.rename(columns={'samples': 'stops'}, inplace=True)\n",
    "        places.insert(0, 'user_id', stops.user_id.values[0])\n",
    "    return stops, places"
   ]
  },
  {
   "cell_type": "code",
   "execution_count": 96,
   "metadata": {},
   "outputs": [
    {
     "name": "stdout",
     "output_type": "stream",
     "text": [
      "Routine index: -1.00\n",
      "-----------------------------------\n",
      "2019-11-12\n"
     ]
    },
    {
     "data": {
      "image/png": "[encoded data removed]",
      "text/plain": [
       "<Figure size 720x720 with 3 Axes>"
      ]
     },
     "metadata": {
      "needs_background": "light"
     },
     "output_type": "display_data"
    },
    {
     "name": "stdout",
     "output_type": "stream",
     "text": [
      "Routine index: 0.96\n",
      "-----------------------------------\n",
      "2019-11-13\n"
     ]
    },
    {
     "data": {
      "image/png": "[encoded data removed]",
      "text/plain": [
       "<Figure size 720x720 with 3 Axes>"
      ]
     },
     "metadata": {
      "needs_background": "light"
     },
     "output_type": "display_data"
    },
    {
     "name": "stdout",
     "output_type": "stream",
     "text": [
      "Routine index: 0.69\n",
      "-----------------------------------\n"
     ]
    }
   ],
   "source": [
    "for date in dates:\n",
    "    # Calculate todays matrix\n",
    "    stops_today = STOPS[date]\n",
    "    stops_so_far = [STOPS[d] for d in dates[dates <= date]]\n",
    "    stops_so_far = pd.concat(stops_so_far)\n",
    "    stops_so_far = stops_so_far.sort_values(['arrival'])\n",
    "    stops_so_far = stops_so_far.reset_index()\n",
    "    stops_so_far, places_so_far = get_places_2(stops_so_far)\n",
    "    \n",
    "    number_of_places = len(places_so_far)\n",
    "    \n",
    "    hour_matrix_today = make_hour_matrix(stops_today, number_of_places)\n",
    "    \n",
    "    dates_hist = dates[dates < date]\n",
    "    \n",
    "    routine_matrix = hour_matrix_today\n",
    "    \n",
    "    if len(dates_hist) > 0:\n",
    "        print(date)\n",
    "        hour_matrices_hist = [make_hour_matrix(STOPS[date_hist], number_of_places) for date_hist in dates_hist]\n",
    "        new_routine_matrix = np.mean(hour_matrices_hist, axis=0)\n",
    "        ri = RI(new_routine_matrix, hour_matrix_today)\n",
    "        plot_today_and_routine(hour_matrix_today, routine_matrix, new_routine_matrix)\n",
    "        routine_matrix = new_routine_matrix\n",
    "        \n",
    "    else:\n",
    "        ri = -1\n",
    "    print('Routine index: %0.2f' % ri)\n",
    "\n",
    "    hms[date] = hour_matrix_today\n",
    "    rms[date] = routine_matrix\n",
    "    \n",
    "    print('-'*35)"
   ]
  },
  {
   "cell_type": "markdown",
   "metadata": {},
   "source": [
    "## Home Stay: \n",
    "_The percentage of time the participant has been at the cluster that represents home. We define the home cluster as the cluster, which is mostly visited during the period between 12 am and 6 am._\n",
    "\n",
    "Implementation steps:\n",
    "* Identify home: Use the `hours` dataframe to determine the most visited cluster between 00 and 06 am.\n",
    "* Count percentage of time at home: Use the `places` dataframe to calculate the time distribution. \n",
    "\n",
    "__However - we need to fill out the `hours` dataframe with data between 00 and 06 first__"
   ]
  },
  {
   "cell_type": "code",
   "execution_count": 33,
   "metadata": {},
   "outputs": [],
   "source": [
    "date = dates[0]\n",
    "# Calculate todays matrix\n",
    "stops_today = STOPS[date]\n",
    "stops_so_far = [STOPS[d] for d in dates[dates <= date]]\n",
    "stops_so_far = pd.concat(stops_so_far)\n",
    "stops_so_far = stops_so_far.sort_values(['arrival'])\n",
    "stops_so_far = stops_so_far.reset_index()\n",
    "stops_so_far, places_so_far = get_places_2(stops_so_far)\n",
    "\n",
    "num_places = len(places_so_far)"
   ]
  },
  {
   "cell_type": "code",
   "execution_count": 34,
   "metadata": {},
   "outputs": [],
   "source": [
    "H = make_hour_matrix(stops_today, num_places)"
   ]
  },
  {
   "cell_type": "code",
   "execution_count": 104,
   "metadata": {},
   "outputs": [],
   "source": [
    "def get_home_place(hour_matrix):\n",
    "    start, end = 0, 6\n",
    "    place_dist = hour_matrix[start:end].sum()\n",
    "    \n",
    "    # Check that there was actually data between 00 and 06\n",
    "    assert not np.all(hour_matrix[start:end].sum() == 0)\n",
    "    \n",
    "    return hour_matrix[start:end].sum().argmax()\n",
    "\n",
    "def home_stay(places, hour_matrix):\n",
    "    distr = places.duration / places.duration.sum()\n",
    "    home_id = get_home_place(hour_matrix)\n",
    "    return distr[home_id]"
   ]
  },
  {
   "cell_type": "code",
   "execution_count": 106,
   "metadata": {},
   "outputs": [
    {
     "data": {
      "text/plain": [
       "0"
      ]
     },
     "execution_count": 106,
     "metadata": {},
     "output_type": "execute_result"
    }
   ],
   "source": [
    "get_home_place(H)"
   ]
  },
  {
   "cell_type": "code",
   "execution_count": 109,
   "metadata": {},
   "outputs": [
    {
     "data": {
      "text/plain": [
       "0.6307356154406409"
      ]
     },
     "execution_count": 109,
     "metadata": {},
     "output_type": "execute_result"
    }
   ],
   "source": [
    "home_stay(places_so_far, H)"
   ]
  }
 ],
 "metadata": {
  "kernelspec": {
   "display_name": "Python 3",
   "language": "python",
   "name": "python3"
  },
  "language_info": {
   "codemirror_mode": {
    "name": "ipython",
    "version": 3
   },
   "file_extension": ".py",
   "mimetype": "text/x-python",
   "name": "python",
   "nbconvert_exporter": "python",
   "pygments_lexer": "ipython3",
   "version": "3.7.0"
  }
 },
 "nbformat": 4,
 "nbformat_minor": 2
}
