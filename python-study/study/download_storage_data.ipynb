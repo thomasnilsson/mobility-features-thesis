{
 "cells": [
  {
   "cell_type": "code",
   "execution_count": 68,
   "metadata": {},
   "outputs": [],
   "source": [
    "import requests\n",
    "import json\n",
    "import datetime\n",
    "import numpy as np\n",
    "import pandas as pd\n",
    "import os"
   ]
  },
  {
   "cell_type": "code",
   "execution_count": 2,
   "metadata": {},
   "outputs": [],
   "source": [
    "DIRECTORY = 'study_data'"
   ]
  },
  {
   "cell_type": "markdown",
   "metadata": {},
   "source": [
    "# Download Data"
   ]
  },
  {
   "cell_type": "code",
   "execution_count": 3,
   "metadata": {},
   "outputs": [],
   "source": [
    "# Manual stuff, maybe automate this somehow\n",
    "ids = [\n",
    "    '1babb9e7-f88b-489a-b82a-4b67e3f58d55',\n",
    "    '1be9abef-6967-492a-9b83-46cb08493357',\n",
    "    '284a0170-caed-4c29-bfac-757409b9d248',\n",
    "    '5ba5e566-409a-4664-a9fa-f27c08422578',\n",
    "    'd6962ede-e622-475e-959a-5405af68414b',\n",
    "    'd91a3af6-1a81-48a4-a8c2-1eb6022401b6',\n",
    "    'dfe18eb9-791b-440d-8e55-61b6886904b2',\n",
    "    'ec110976-0192-436d-b451-4f5dd97e71d8',\n",
    "    '21e6abea-ebbc-453b-8cff-15064e32db06',\n",
    "    'd6b2d9b9-398b-4e0d-b52b-224747f515c8', # Me\n",
    "]\n",
    "\n",
    "# Media token\n",
    "media_token = '4e842bb8-b660-42a3-b67b-d8f2223815d9'\n",
    "\n",
    "# File name prefixes\n",
    "ANSWERS  = 'answers'\n",
    "POINTS   = 'points'\n",
    "STOPS    = 'stops'\n",
    "MOVES    = 'moves'\n",
    "FEATURES = 'features'"
   ]
  },
  {
   "cell_type": "code",
   "execution_count": 4,
   "metadata": {},
   "outputs": [],
   "source": [
    "# Make file names\n",
    "def points_type(month, day, year=2020):\n",
    "    return '%s-%i-%i-%i' % (POINTS, year, month, day) \n",
    "\n",
    "def make_file_name(user_id, file_type, month=-1, day=-1):\n",
    "    if file_type == POINTS:\n",
    "        return points_type(month, day) + '_' + user_id + '.json'\n",
    "    return file_type + '_' + user_id + '.json'"
   ]
  },
  {
   "cell_type": "code",
   "execution_count": 5,
   "metadata": {},
   "outputs": [],
   "source": [
    "# Make url from parameters\n",
    "def make_url(user_id, file_type, month=-1, day=-1):\n",
    "    return 'https://firebasestorage.googleapis.com/v0/b/mobilityfeatures.appspot.com/o/' \\\n",
    "    + user_id \\\n",
    "    + '%2F' \\\n",
    "    + make_file_name(user_id, file_type, month=month, day=day)\\\n",
    "    + '?alt=media&token=' + media_token"
   ]
  },
  {
   "cell_type": "code",
   "execution_count": 6,
   "metadata": {},
   "outputs": [],
   "source": [
    "def get_contents(url, debug=False):\n",
    "    data = []\n",
    "    r = requests.get(url)\n",
    "    if r.ok:\n",
    "        for line in r.content.decode(\"utf-8\").split('\\n'):\n",
    "            if line: # Check if empty string\n",
    "                try:\n",
    "                    j = json.loads(line)\n",
    "                    data.append(j)\n",
    "                except:\n",
    "                    if debug: print('Error for line:', line)\n",
    "    else:\n",
    "        print('File doesnt exist!')\n",
    "    return data"
   ]
  },
  {
   "cell_type": "markdown",
   "metadata": {},
   "source": [
    "# Example download"
   ]
  },
  {
   "cell_type": "code",
   "execution_count": 7,
   "metadata": {},
   "outputs": [],
   "source": [
    "uid = 'd6962ede-e622-475e-959a-5405af68414b'\n",
    "\n",
    "features_url = make_url(uid, FEATURES)\n",
    "answers_url  = make_url(uid, ANSWERS)\n",
    "\n",
    "features_data = get_contents(features_url)\n",
    "answers_data  = get_contents(answers_url)"
   ]
  },
  {
   "cell_type": "markdown",
   "metadata": {},
   "source": [
    "# Load"
   ]
  },
  {
   "cell_type": "markdown",
   "metadata": {},
   "source": [
    "## Answers"
   ]
  },
  {
   "cell_type": "code",
   "execution_count": 153,
   "metadata": {},
   "outputs": [],
   "source": [
    "a = pd.DataFrame(answers_data)\n",
    "a = a.sort_values(['datetime'])\n",
    "\n",
    "# create 'date' column\n",
    "datetimes = pd.to_datetime(a.datetime)\n",
    "dates = [dt.date() for dt in datetimes]\n",
    "a['date'] = dates\n",
    "\n",
    "# group by date, only keep the latest\n",
    "a = a.groupby(['date']).last()\n",
    "a.datetime = pd.to_datetime(a.datetime)"
   ]
  },
  {
   "cell_type": "code",
   "execution_count": 154,
   "metadata": {},
   "outputs": [],
   "source": [
    "f = pd.DataFrame(features_data)\n",
    "datetimes = pd.to_datetime(f.date)\n",
    "\n",
    "# Convert to datetime object\n",
    "dates = [dt.date() for dt in datetimes]\n",
    "f.date = dates\n",
    "\n",
    "# Rename time stamp to date time and standardize it\n",
    "f['datetime'] = pd.to_datetime(f.timestamp)\n",
    "f = f.drop(['timestamp'], axis=1)\n",
    "\n",
    "# Discard entries with no time stamp (for now)\n",
    "f = f[f.datetime.notnull()]\n",
    "\n",
    "# only keep the last row for each date\n",
    "f = f.groupby(['date']).last()"
   ]
  },
  {
   "cell_type": "code",
   "execution_count": 155,
   "metadata": {},
   "outputs": [],
   "source": [
    "a = a.reset_index()\n",
    "f = f.reset_index()\n",
    "\n",
    "# Find dates for which features were computed, and answers were given\n",
    "dates = np.intersect1d(f.date, a.date)\n",
    "\n",
    "# Filter out elements not on the selected dates\n",
    "f = f[f.date.isin(dates)]\n",
    "a = a[a.date.isin(dates)]\n",
    "\n",
    "# Check that they now contain the same elements\n",
    "assert (len(a) == len(f))"
   ]
  },
  {
   "cell_type": "markdown",
   "metadata": {},
   "source": [
    "# Pre proc functions\n",
    "* Flipping the routine scale in case it was misunderstood\n",
    "* Correcting the time of entries, in case people filled it out during the night or early the next day (probably because they forgot!)"
   ]
  },
  {
   "cell_type": "code",
   "execution_count": 156,
   "metadata": {},
   "outputs": [],
   "source": [
    "def flip_routine_scale(ans):\n",
    "    ans = str(ans)\n",
    "    d = {'1': '5', '2': '4', '3': '3', '4': '2', '5': '1'}\n",
    "    return d[ans]\n",
    "\n",
    "def check_routine_scale(answer_series, feature_series):\n",
    "    assert(len(answer_series) == len(feature_series))\n",
    "    \n",
    "    ans  = pd.to_numeric(answer_series).values\n",
    "    feat = pd.to_numeric(feature_series).values\n",
    "    \n",
    "    for i in range(len(answer_series)):\n",
    "        if abs(ans[i] / 5 - feat[i]) > 0.9:\n",
    "            ans[i] = str(flip_routine_scale(ans[i]))\n",
    "    return np.array([str(a) for a in ans], dtype=object)"
   ]
  },
  {
   "cell_type": "code",
   "execution_count": 157,
   "metadata": {},
   "outputs": [],
   "source": [
    "def correct_dates(dt):\n",
    "    if 0 <= dt.hour and dt.hour <= 12: \n",
    "        # sets time to midnight and subtracts 1 second to go to prev date\n",
    "        new_dt = dt.normalize() + pd.Timedelta(seconds=-1) \n",
    "        return new_dt\n",
    "    return dt"
   ]
  },
  {
   "cell_type": "code",
   "execution_count": 158,
   "metadata": {},
   "outputs": [],
   "source": [
    "a.routine_scale = a.routine_scale.apply(flip_routine_scale)\n",
    "a.routine_scale = check_routine_scale(a.routine_scale, f.routine_overlap_today)"
   ]
  },
  {
   "cell_type": "markdown",
   "metadata": {},
   "source": [
    "# Download answers and features Data"
   ]
  },
  {
   "cell_type": "code",
   "execution_count": 146,
   "metadata": {},
   "outputs": [
    {
     "name": "stdout",
     "output_type": "stream",
     "text": [
      "Downloading for 1babb9e7-f88b-489a-b82a-4b67e3f58d55 ...\n",
      "Downloading for 1be9abef-6967-492a-9b83-46cb08493357 ...\n",
      "Downloading for 284a0170-caed-4c29-bfac-757409b9d248 ...\n",
      "Downloading for 5ba5e566-409a-4664-a9fa-f27c08422578 ...\n",
      "Downloading for d6962ede-e622-475e-959a-5405af68414b ...\n",
      "Downloading for d91a3af6-1a81-48a4-a8c2-1eb6022401b6 ...\n",
      "Downloading for dfe18eb9-791b-440d-8e55-61b6886904b2 ...\n",
      "Downloading for ec110976-0192-436d-b451-4f5dd97e71d8 ...\n",
      "Downloading for 21e6abea-ebbc-453b-8cff-15064e32db06 ...\n",
      "Downloading for d6b2d9b9-398b-4e0d-b52b-224747f515c8 ...\n"
     ]
    }
   ],
   "source": [
    "answers  = {}\n",
    "features = {}\n",
    "\n",
    "for uid in ids:\n",
    "    print('Downloading for %s ...' % uid)\n",
    "    features_url = make_url(uid, FEATURES)\n",
    "    answers_url  = make_url(uid, ANSWERS)\n",
    "\n",
    "    features_data = get_contents(features_url)\n",
    "    answers_data  = get_contents(answers_url)\n",
    "    \n",
    "    a = pd.DataFrame(answers_data)\n",
    "    f = pd.DataFrame(features_data)\n",
    "    \n",
    "    answers[uid]  = a\n",
    "    features[uid] = f"
   ]
  },
  {
   "cell_type": "raw",
   "metadata": {},
   "source": [
    "# Preprocessing 1.5 \n",
    "* Process certain partcipants only\n",
    "    * If filled out during the night\n",
    "    * If misunderstood routine scale\n",
    "    * Insert missing data manually"
   ]
  },
  {
   "cell_type": "raw",
   "metadata": {},
   "source": [
    "**manual data**\n",
    "1babb9e7-f88b-489a-b82a-4b67e3f58d55 -> 8:48 25/4 change date to 24/4\t\n",
    "1babb9e7-f88b-489a-b82a-4b67e3f58d55 -> 8/5, transfer from 9/5 kl 08:26\n",
    "1babb9e7-f88b-489a-b82a-4b67e3f58d55 -> 1/5\t5, 5, Yes, 3/5\n",
    "\n",
    "d6b2d9b9-398b-4e0d-b52b-224747f515c8 -> 1/5\t5, 2, Yes, 4/5\n",
    "\n",
    "21e6abea-ebbc-453b-8cff-15064e32db06 -> 29/4: 2, 1, No, 4/5\n",
    "21e6abea-ebbc-453b-8cff-15064e32db06 -> 30/4\t3 6 Yes 2"
   ]
  },
  {
   "cell_type": "markdown",
   "metadata": {},
   "source": [
    "# Preprocessing 1\n",
    "* Convert to date and datetime objects such that queries can be made on these."
   ]
  },
  {
   "cell_type": "code",
   "execution_count": 163,
   "metadata": {},
   "outputs": [
    {
     "name": "stdout",
     "output_type": "stream",
     "text": [
      "Finished.\n"
     ]
    }
   ],
   "source": [
    "for uid in ids:    \n",
    "    #### Answers ####\n",
    "    a = answers[uid]\n",
    "    a = a.sort_values(['datetime'])\n",
    "\n",
    "    # Convert datetime column into datetime objects\n",
    "    datetimes = pd.to_datetime(a.datetime)\n",
    "    a.datetime = datetimes\n",
    "    \n",
    "    # Correct datetime of entries\n",
    "    a.datetime = a.datetime.apply(correct_dates)\n",
    "    \n",
    "    # Make a date column to easily select by date later on\n",
    "    dates = [dt.date() for dt in datetimes]\n",
    "    a['date'] = dates\n",
    "    \n",
    "    #### Features ####\n",
    "    f = features[uid]\n",
    "    datetimes = pd.to_datetime(f.date)\n",
    "\n",
    "    # Convert to datetime object\n",
    "    dates = [dt.date() for dt in datetimes]\n",
    "    f.date = dates\n",
    "\n",
    "    # Rename time stamp to date time and standardize it\n",
    "    f['datetime'] = pd.to_datetime(f.timestamp)\n",
    "    f = f.drop(['timestamp'], axis=1)\n",
    "    \n",
    "    # group by date, only keep the latest\n",
    "    a = a.groupby(['date']).last()\n",
    "\n",
    "    # Discard entries with no time stamp (for now)\n",
    "    f = f[f.datetime.notnull()]\n",
    "    # only keep the last row for each date\n",
    "    f = f.groupby(['date']).last()\n",
    "    \n",
    "    answers[uid] = a\n",
    "    features[uid] = f\n",
    "print('Finished.')"
   ]
  },
  {
   "cell_type": "markdown",
   "metadata": {},
   "source": [
    "# Get total number of answer dates, used for plotting"
   ]
  },
  {
   "cell_type": "code",
   "execution_count": 169,
   "metadata": {},
   "outputs": [],
   "source": [
    "num_answer_dates = {}\n",
    "for uid in ids:\n",
    "    num_answer_dates[uid] = [len(answers[uid])]"
   ]
  },
  {
   "cell_type": "code",
   "execution_count": 170,
   "metadata": {},
   "outputs": [
    {
     "data": {
      "text/html": [
       "<div>\n",
       "<style scoped>\n",
       "    .dataframe tbody tr th:only-of-type {\n",
       "        vertical-align: middle;\n",
       "    }\n",
       "\n",
       "    .dataframe tbody tr th {\n",
       "        vertical-align: top;\n",
       "    }\n",
       "\n",
       "    .dataframe thead th {\n",
       "        text-align: right;\n",
       "    }\n",
       "</style>\n",
       "<table border=\"1\" class=\"dataframe\">\n",
       "  <thead>\n",
       "    <tr style=\"text-align: right;\">\n",
       "      <th></th>\n",
       "      <th>num_days_answered</th>\n",
       "    </tr>\n",
       "  </thead>\n",
       "  <tbody>\n",
       "    <tr>\n",
       "      <th>P1</th>\n",
       "      <td>17</td>\n",
       "    </tr>\n",
       "    <tr>\n",
       "      <th>P2</th>\n",
       "      <td>14</td>\n",
       "    </tr>\n",
       "    <tr>\n",
       "      <th>P3</th>\n",
       "      <td>15</td>\n",
       "    </tr>\n",
       "    <tr>\n",
       "      <th>P4</th>\n",
       "      <td>14</td>\n",
       "    </tr>\n",
       "    <tr>\n",
       "      <th>P5</th>\n",
       "      <td>13</td>\n",
       "    </tr>\n",
       "    <tr>\n",
       "      <th>P6</th>\n",
       "      <td>17</td>\n",
       "    </tr>\n",
       "    <tr>\n",
       "      <th>P7</th>\n",
       "      <td>14</td>\n",
       "    </tr>\n",
       "    <tr>\n",
       "      <th>P8</th>\n",
       "      <td>13</td>\n",
       "    </tr>\n",
       "    <tr>\n",
       "      <th>P9</th>\n",
       "      <td>4</td>\n",
       "    </tr>\n",
       "    <tr>\n",
       "      <th>R</th>\n",
       "      <td>21</td>\n",
       "    </tr>\n",
       "  </tbody>\n",
       "</table>\n",
       "</div>"
      ],
      "text/plain": [
       "    num_days_answered\n",
       "P1                 17\n",
       "P2                 14\n",
       "P3                 15\n",
       "P4                 14\n",
       "P5                 13\n",
       "P6                 17\n",
       "P7                 14\n",
       "P8                 13\n",
       "P9                  4\n",
       "R                  21"
      ]
     },
     "execution_count": 170,
     "metadata": {},
     "output_type": "execute_result"
    }
   ],
   "source": [
    "df = pd.DataFrame.from_dict(num_answer_dates).T\n",
    "df.columns = ['num_days_answered']\n",
    "df.index = ['P1', 'P2', 'P3', 'P4', 'P5', 'P6', 'P7', 'P8', 'P9', 'R']\n",
    "df"
   ]
  },
  {
   "cell_type": "code",
   "execution_count": 171,
   "metadata": {},
   "outputs": [],
   "source": [
    "df.to_csv('%s/num_days_answered.csv' % (DIRECTORY))"
   ]
  },
  {
   "cell_type": "markdown",
   "metadata": {},
   "source": [
    "# Step 2, remove dates where they dont intersect"
   ]
  },
  {
   "cell_type": "code",
   "execution_count": 167,
   "metadata": {},
   "outputs": [],
   "source": [
    "for uid in ids:    \n",
    "    a = answers[uid]\n",
    "    f = features[uid]\n",
    "    #### Dates ####\n",
    "    # Find dates for which features were computed, and answers were given\n",
    "    a = a.reset_index()\n",
    "    f = f.reset_index()\n",
    "    dates = np.intersect1d(f.date, a.date)\n",
    "\n",
    "    # Filter out elements not on the selected dates\n",
    "    f = f[f.date.isin(dates)]\n",
    "    a = a[a.date.isin(dates)]\n",
    "\n",
    "    # Check that they now contain the same elements\n",
    "    assert (len(a) == len(f))\n",
    "\n",
    "    # Certain participants misunderstood the routine scale\n",
    "    # This needs to be corrected by inverting the scale on certain days.\n",
    "    if uid == 'ec110976-0192-436d-b451-4f5dd97e71d8':\n",
    "        a.routine_scale = a.routine_scale.apply(flip_routine_scale)\n",
    "        # Flips exteme outliers\n",
    "        a.routine_scale = check_routine_scale(a.routine_scale, f.routine_overlap_today)\n",
    "    \n",
    "    a.to_csv('%s/answers_%s.csv' % (DIRECTORY,uid))\n",
    "    f.to_csv('%s/features_%s.csv' % (DIRECTORY,uid))\n",
    "    \n",
    "    answers[uid] = a\n",
    "    features[uid] = f"
   ]
  },
  {
   "cell_type": "code",
   "execution_count": null,
   "metadata": {},
   "outputs": [],
   "source": []
  },
  {
   "cell_type": "markdown",
   "metadata": {},
   "source": [
    "# Download raw points"
   ]
  },
  {
   "cell_type": "code",
   "execution_count": 8,
   "metadata": {},
   "outputs": [],
   "source": [
    "def get_points_data(uid):\n",
    "    # Start date april 22nd\n",
    "    m = 4\n",
    "    d = 22\n",
    "\n",
    "    points_data = []\n",
    "\n",
    "    for i in range(30):\n",
    "        if d > 30:\n",
    "            d = 1\n",
    "            m += 1\n",
    "        else:\n",
    "            d += 1\n",
    "\n",
    "        p = get_contents(make_url(uid, POINTS, m, d))\n",
    "        if p != []:\n",
    "            points_data.append(p)\n",
    "    return points_data"
   ]
  },
  {
   "cell_type": "code",
   "execution_count": null,
   "metadata": {},
   "outputs": [],
   "source": [
    "points = {}\n",
    "\n",
    "for uid in ids:\n",
    "    print(uid)\n",
    "    points[uid] = get_points_data(uid)\n",
    "\n",
    "print('Finished!')"
   ]
  },
  {
   "cell_type": "code",
   "execution_count": 76,
   "metadata": {},
   "outputs": [],
   "source": [
    "bytes_per_point = 100"
   ]
  },
  {
   "cell_type": "code",
   "execution_count": 118,
   "metadata": {},
   "outputs": [
    {
     "name": "stdout",
     "output_type": "stream",
     "text": [
      "1babb9e7-f88b-489a-b82a-4b67e3f58d55 \tdays: 23 \tpoints (k):  181 \tSize (MB): 17.28 \tavg: 7878 points per day 769 KB per day\n",
      "1be9abef-6967-492a-9b83-46cb08493357 \tdays: 25 \tpoints (k):  142 \tSize (MB): 13.55 \tavg: 5684 points per day 555 KB per day\n",
      "284a0170-caed-4c29-bfac-757409b9d248 \tdays: 21 \tpoints (k):  101 \tSize (MB): 9.71 \tavg: 4850 points per day 473 KB per day\n",
      "5ba5e566-409a-4664-a9fa-f27c08422578 \tdays: 22 \tpoints (k):  98 \tSize (MB): 9.43 \tavg: 4494 points per day 438 KB per day\n",
      "d6962ede-e622-475e-959a-5405af68414b \tdays: 14 \tpoints (k):  209 \tSize (MB): 20.00 \tavg: 14977 points per day 1462 KB per day\n",
      "d91a3af6-1a81-48a4-a8c2-1eb6022401b6 \tdays: 26 \tpoints (k):  101 \tSize (MB): 9.73 \tavg: 3922 points per day 383 KB per day\n",
      "dfe18eb9-791b-440d-8e55-61b6886904b2 \tdays: 23 \tpoints (k):  1116 \tSize (MB): 106.44 \tavg: 48525 points per day 4738 KB per day\n",
      "ec110976-0192-436d-b451-4f5dd97e71d8 \tdays: 15 \tpoints (k):  141 \tSize (MB): 13.47 \tavg: 9417 points per day 919 KB per day\n",
      "21e6abea-ebbc-453b-8cff-15064e32db06 \tdays: 12 \tpoints (k):  51 \tSize (MB): 4.93 \tavg: 4311 points per day 421 KB per day\n",
      "d6b2d9b9-398b-4e0d-b52b-224747f515c8 \tdays: 24 \tpoints (k):  365 \tSize (MB): 34.87 \tavg: 15233 points per day 1487 KB per day\n"
     ]
    }
   ],
   "source": [
    "storage_data = {}\n",
    "\n",
    "for uid in ids:\n",
    "    s = 0\n",
    "    for pp in points[uid]:\n",
    "        s += len(pp)\n",
    "    \n",
    "    n = len(points[uid])\n",
    "    mb = s * bytes_per_point/(1024 * 1024)\n",
    "    \n",
    "    storage_data[uid] = [n, s, mb]\n",
    "    \n",
    "    print(uid, '\\tdays:', n, '\\tpoints (k): ', int(s/1000), '\\tSize (MB): %.2f' % mb, '\\tavg:', int(s/n), 'points per day', int(1024 * mb/n), 'KB per day', )"
   ]
  },
  {
   "cell_type": "code",
   "execution_count": 122,
   "metadata": {},
   "outputs": [
    {
     "data": {
      "text/html": [
       "<div>\n",
       "<style scoped>\n",
       "    .dataframe tbody tr th:only-of-type {\n",
       "        vertical-align: middle;\n",
       "    }\n",
       "\n",
       "    .dataframe tbody tr th {\n",
       "        vertical-align: top;\n",
       "    }\n",
       "\n",
       "    .dataframe thead th {\n",
       "        text-align: right;\n",
       "    }\n",
       "</style>\n",
       "<table border=\"1\" class=\"dataframe\">\n",
       "  <thead>\n",
       "    <tr style=\"text-align: right;\">\n",
       "      <th></th>\n",
       "      <th>num_of_days</th>\n",
       "      <th>num_points</th>\n",
       "      <th>size_mb</th>\n",
       "    </tr>\n",
       "  </thead>\n",
       "  <tbody>\n",
       "    <tr>\n",
       "      <th>P1</th>\n",
       "      <td>23.0</td>\n",
       "      <td>181213.0</td>\n",
       "      <td>17.281818</td>\n",
       "    </tr>\n",
       "    <tr>\n",
       "      <th>P2</th>\n",
       "      <td>25.0</td>\n",
       "      <td>142109.0</td>\n",
       "      <td>13.552570</td>\n",
       "    </tr>\n",
       "    <tr>\n",
       "      <th>P3</th>\n",
       "      <td>21.0</td>\n",
       "      <td>101865.0</td>\n",
       "      <td>9.714603</td>\n",
       "    </tr>\n",
       "    <tr>\n",
       "      <th>P4</th>\n",
       "      <td>22.0</td>\n",
       "      <td>98887.0</td>\n",
       "      <td>9.430599</td>\n",
       "    </tr>\n",
       "    <tr>\n",
       "      <th>P5</th>\n",
       "      <td>14.0</td>\n",
       "      <td>209683.0</td>\n",
       "      <td>19.996929</td>\n",
       "    </tr>\n",
       "    <tr>\n",
       "      <th>P6</th>\n",
       "      <td>26.0</td>\n",
       "      <td>101994.0</td>\n",
       "      <td>9.726906</td>\n",
       "    </tr>\n",
       "    <tr>\n",
       "      <th>P7</th>\n",
       "      <td>23.0</td>\n",
       "      <td>1116075.0</td>\n",
       "      <td>106.437206</td>\n",
       "    </tr>\n",
       "    <tr>\n",
       "      <th>P8</th>\n",
       "      <td>15.0</td>\n",
       "      <td>141260.0</td>\n",
       "      <td>13.471603</td>\n",
       "    </tr>\n",
       "    <tr>\n",
       "      <th>P9</th>\n",
       "      <td>12.0</td>\n",
       "      <td>51740.0</td>\n",
       "      <td>4.934311</td>\n",
       "    </tr>\n",
       "    <tr>\n",
       "      <th>R</th>\n",
       "      <td>24.0</td>\n",
       "      <td>365606.0</td>\n",
       "      <td>34.866905</td>\n",
       "    </tr>\n",
       "  </tbody>\n",
       "</table>\n",
       "</div>"
      ],
      "text/plain": [
       "    num_of_days  num_points     size_mb\n",
       "P1         23.0    181213.0   17.281818\n",
       "P2         25.0    142109.0   13.552570\n",
       "P3         21.0    101865.0    9.714603\n",
       "P4         22.0     98887.0    9.430599\n",
       "P5         14.0    209683.0   19.996929\n",
       "P6         26.0    101994.0    9.726906\n",
       "P7         23.0   1116075.0  106.437206\n",
       "P8         15.0    141260.0   13.471603\n",
       "P9         12.0     51740.0    4.934311\n",
       "R          24.0    365606.0   34.866905"
      ]
     },
     "execution_count": 122,
     "metadata": {},
     "output_type": "execute_result"
    }
   ],
   "source": [
    "df = pd.DataFrame.from_dict(storage_data).T\n",
    "df.columns = ['num_of_days', 'num_points', 'size_mb']\n",
    "df.index = ['P1', 'P2', 'P3', 'P4', 'P5', 'P6', 'P7', 'P8', 'P9', 'R']\n",
    "df"
   ]
  },
  {
   "cell_type": "code",
   "execution_count": 123,
   "metadata": {},
   "outputs": [],
   "source": [
    "df.to_csv('%s/storage_points.csv' % (DIRECTORY))"
   ]
  },
  {
   "cell_type": "code",
   "execution_count": 135,
   "metadata": {},
   "outputs": [
    {
     "name": "stdout",
     "output_type": "stream",
     "text": [
      "finished!\n"
     ]
    }
   ],
   "source": [
    "stops = {}\n",
    "for uid in ids:\n",
    "    stops[uid] = get_contents(make_url(uid, STOPS))\n",
    "print('finished!')"
   ]
  },
  {
   "cell_type": "code",
   "execution_count": 138,
   "metadata": {},
   "outputs": [
    {
     "data": {
      "text/plain": [
       "234"
      ]
     },
     "execution_count": 138,
     "metadata": {},
     "output_type": "execute_result"
    }
   ],
   "source": [
    "len(stops[uid])"
   ]
  },
  {
   "cell_type": "code",
   "execution_count": 129,
   "metadata": {},
   "outputs": [
    {
     "data": {
      "text/plain": [
       "139"
      ]
     },
     "execution_count": 129,
     "metadata": {},
     "output_type": "execute_result"
    }
   ],
   "source": [
    "bytes_per_stop = int(32332 / 234) + 1\n",
    "bytes_per_stop"
   ]
  },
  {
   "cell_type": "code",
   "execution_count": 141,
   "metadata": {},
   "outputs": [
    {
     "name": "stdout",
     "output_type": "stream",
     "text": [
      "1babb9e7-f88b-489a-b82a-4b67e3f58d55\n",
      "90 0.011930465698242188\n",
      "1be9abef-6967-492a-9b83-46cb08493357\n",
      "13 0.0017232894897460938\n",
      "284a0170-caed-4c29-bfac-757409b9d248\n",
      "2089 0.2769193649291992\n",
      "5ba5e566-409a-4664-a9fa-f27c08422578\n",
      "2922 0.3873424530029297\n",
      "d6962ede-e622-475e-959a-5405af68414b\n",
      "99 0.013123512268066406\n",
      "d91a3af6-1a81-48a4-a8c2-1eb6022401b6\n",
      "43 0.005700111389160156\n",
      "dfe18eb9-791b-440d-8e55-61b6886904b2\n",
      "41 0.005434989929199219\n",
      "ec110976-0192-436d-b451-4f5dd97e71d8\n",
      "2423 0.3211946487426758\n",
      "21e6abea-ebbc-453b-8cff-15064e32db06\n",
      "50 0.0066280364990234375\n",
      "d6b2d9b9-398b-4e0d-b52b-224747f515c8\n",
      "234 0.031019210815429688\n"
     ]
    }
   ],
   "source": [
    "stops_storage_data = {}\n",
    "\n",
    "for uid in ids:\n",
    "    print(uid)\n",
    "    num_stops = len(stops[uid])\n",
    "    mb = num_stops * bytes_per_stop/(1024 * 1024)\n",
    "    print(num_stops, mb)\n",
    "    stops_storage_data[uid] = [num_stops, mb]"
   ]
  },
  {
   "cell_type": "code",
   "execution_count": 143,
   "metadata": {},
   "outputs": [
    {
     "data": {
      "text/html": [
       "<div>\n",
       "<style scoped>\n",
       "    .dataframe tbody tr th:only-of-type {\n",
       "        vertical-align: middle;\n",
       "    }\n",
       "\n",
       "    .dataframe tbody tr th {\n",
       "        vertical-align: top;\n",
       "    }\n",
       "\n",
       "    .dataframe thead th {\n",
       "        text-align: right;\n",
       "    }\n",
       "</style>\n",
       "<table border=\"1\" class=\"dataframe\">\n",
       "  <thead>\n",
       "    <tr style=\"text-align: right;\">\n",
       "      <th></th>\n",
       "      <th>num_stops</th>\n",
       "      <th>size_mb</th>\n",
       "    </tr>\n",
       "  </thead>\n",
       "  <tbody>\n",
       "    <tr>\n",
       "      <th>P1</th>\n",
       "      <td>90.0</td>\n",
       "      <td>0.011930</td>\n",
       "    </tr>\n",
       "    <tr>\n",
       "      <th>P2</th>\n",
       "      <td>13.0</td>\n",
       "      <td>0.001723</td>\n",
       "    </tr>\n",
       "    <tr>\n",
       "      <th>P3</th>\n",
       "      <td>2089.0</td>\n",
       "      <td>0.276919</td>\n",
       "    </tr>\n",
       "    <tr>\n",
       "      <th>P4</th>\n",
       "      <td>2922.0</td>\n",
       "      <td>0.387342</td>\n",
       "    </tr>\n",
       "    <tr>\n",
       "      <th>P5</th>\n",
       "      <td>99.0</td>\n",
       "      <td>0.013124</td>\n",
       "    </tr>\n",
       "    <tr>\n",
       "      <th>P6</th>\n",
       "      <td>43.0</td>\n",
       "      <td>0.005700</td>\n",
       "    </tr>\n",
       "    <tr>\n",
       "      <th>P7</th>\n",
       "      <td>41.0</td>\n",
       "      <td>0.005435</td>\n",
       "    </tr>\n",
       "    <tr>\n",
       "      <th>P8</th>\n",
       "      <td>2423.0</td>\n",
       "      <td>0.321195</td>\n",
       "    </tr>\n",
       "    <tr>\n",
       "      <th>P9</th>\n",
       "      <td>50.0</td>\n",
       "      <td>0.006628</td>\n",
       "    </tr>\n",
       "    <tr>\n",
       "      <th>R</th>\n",
       "      <td>234.0</td>\n",
       "      <td>0.031019</td>\n",
       "    </tr>\n",
       "  </tbody>\n",
       "</table>\n",
       "</div>"
      ],
      "text/plain": [
       "    num_stops   size_mb\n",
       "P1       90.0  0.011930\n",
       "P2       13.0  0.001723\n",
       "P3     2089.0  0.276919\n",
       "P4     2922.0  0.387342\n",
       "P5       99.0  0.013124\n",
       "P6       43.0  0.005700\n",
       "P7       41.0  0.005435\n",
       "P8     2423.0  0.321195\n",
       "P9       50.0  0.006628\n",
       "R       234.0  0.031019"
      ]
     },
     "execution_count": 143,
     "metadata": {},
     "output_type": "execute_result"
    }
   ],
   "source": [
    "df = pd.DataFrame.from_dict(stops_storage_data).T\n",
    "df.columns = ['num_stops', 'size_mb']\n",
    "df.index = ['P1', 'P2', 'P3', 'P4', 'P5', 'P6', 'P7', 'P8', 'P9', 'R']\n",
    "df"
   ]
  },
  {
   "cell_type": "code",
   "execution_count": 144,
   "metadata": {},
   "outputs": [],
   "source": [
    "df.to_csv('%s/storage_stops.csv' % (DIRECTORY))"
   ]
  },
  {
   "cell_type": "markdown",
   "metadata": {},
   "source": [
    "# Corrections"
   ]
  },
  {
   "cell_type": "code",
   "execution_count": 44,
   "metadata": {},
   "outputs": [
    {
     "data": {
      "text/html": [
       "<div>\n",
       "<style scoped>\n",
       "    .dataframe tbody tr th:only-of-type {\n",
       "        vertical-align: middle;\n",
       "    }\n",
       "\n",
       "    .dataframe tbody tr th {\n",
       "        vertical-align: top;\n",
       "    }\n",
       "\n",
       "    .dataframe thead th {\n",
       "        text-align: right;\n",
       "    }\n",
       "</style>\n",
       "<table border=\"1\" class=\"dataframe\">\n",
       "  <thead>\n",
       "    <tr style=\"text-align: right;\">\n",
       "      <th></th>\n",
       "      <th>Unnamed: 0</th>\n",
       "      <th>num_days</th>\n",
       "      <th>num_points</th>\n",
       "      <th>size_mb</th>\n",
       "      <th>avg_points_per_day</th>\n",
       "      <th>avg_size_per_day</th>\n",
       "    </tr>\n",
       "  </thead>\n",
       "  <tbody>\n",
       "    <tr>\n",
       "      <th>0</th>\n",
       "      <td>P1</td>\n",
       "      <td>23.0</td>\n",
       "      <td>181213.0</td>\n",
       "      <td>17.3</td>\n",
       "      <td>7878.8</td>\n",
       "      <td>0.8</td>\n",
       "    </tr>\n",
       "    <tr>\n",
       "      <th>1</th>\n",
       "      <td>P2</td>\n",
       "      <td>25.0</td>\n",
       "      <td>142109.0</td>\n",
       "      <td>13.6</td>\n",
       "      <td>5684.4</td>\n",
       "      <td>0.5</td>\n",
       "    </tr>\n",
       "    <tr>\n",
       "      <th>2</th>\n",
       "      <td>P3</td>\n",
       "      <td>21.0</td>\n",
       "      <td>101865.0</td>\n",
       "      <td>9.7</td>\n",
       "      <td>4850.7</td>\n",
       "      <td>0.5</td>\n",
       "    </tr>\n",
       "    <tr>\n",
       "      <th>3</th>\n",
       "      <td>P4</td>\n",
       "      <td>22.0</td>\n",
       "      <td>98887.0</td>\n",
       "      <td>9.4</td>\n",
       "      <td>4494.9</td>\n",
       "      <td>0.4</td>\n",
       "    </tr>\n",
       "    <tr>\n",
       "      <th>4</th>\n",
       "      <td>P5</td>\n",
       "      <td>14.0</td>\n",
       "      <td>209683.0</td>\n",
       "      <td>20.0</td>\n",
       "      <td>14977.4</td>\n",
       "      <td>1.4</td>\n",
       "    </tr>\n",
       "    <tr>\n",
       "      <th>5</th>\n",
       "      <td>P6</td>\n",
       "      <td>26.0</td>\n",
       "      <td>101994.0</td>\n",
       "      <td>9.7</td>\n",
       "      <td>3922.8</td>\n",
       "      <td>0.4</td>\n",
       "    </tr>\n",
       "    <tr>\n",
       "      <th>6</th>\n",
       "      <td>P7</td>\n",
       "      <td>23.0</td>\n",
       "      <td>1116075.0</td>\n",
       "      <td>106.4</td>\n",
       "      <td>48525.0</td>\n",
       "      <td>4.6</td>\n",
       "    </tr>\n",
       "    <tr>\n",
       "      <th>7</th>\n",
       "      <td>P8</td>\n",
       "      <td>15.0</td>\n",
       "      <td>141260.0</td>\n",
       "      <td>13.5</td>\n",
       "      <td>9417.3</td>\n",
       "      <td>0.9</td>\n",
       "    </tr>\n",
       "    <tr>\n",
       "      <th>8</th>\n",
       "      <td>P9</td>\n",
       "      <td>12.0</td>\n",
       "      <td>51740.0</td>\n",
       "      <td>4.9</td>\n",
       "      <td>4311.7</td>\n",
       "      <td>0.4</td>\n",
       "    </tr>\n",
       "    <tr>\n",
       "      <th>9</th>\n",
       "      <td>R</td>\n",
       "      <td>24.0</td>\n",
       "      <td>365606.0</td>\n",
       "      <td>34.9</td>\n",
       "      <td>15233.6</td>\n",
       "      <td>1.5</td>\n",
       "    </tr>\n",
       "  </tbody>\n",
       "</table>\n",
       "</div>"
      ],
      "text/plain": [
       "  Unnamed: 0  num_days  num_points  size_mb  avg_points_per_day  \\\n",
       "0         P1      23.0    181213.0     17.3              7878.8   \n",
       "1         P2      25.0    142109.0     13.6              5684.4   \n",
       "2         P3      21.0    101865.0      9.7              4850.7   \n",
       "3         P4      22.0     98887.0      9.4              4494.9   \n",
       "4         P5      14.0    209683.0     20.0             14977.4   \n",
       "5         P6      26.0    101994.0      9.7              3922.8   \n",
       "6         P7      23.0   1116075.0    106.4             48525.0   \n",
       "7         P8      15.0    141260.0     13.5              9417.3   \n",
       "8         P9      12.0     51740.0      4.9              4311.7   \n",
       "9          R      24.0    365606.0     34.9             15233.6   \n",
       "\n",
       "   avg_size_per_day  \n",
       "0               0.8  \n",
       "1               0.5  \n",
       "2               0.5  \n",
       "3               0.4  \n",
       "4               1.4  \n",
       "5               0.4  \n",
       "6               4.6  \n",
       "7               0.9  \n",
       "8               0.4  \n",
       "9               1.5  "
      ]
     },
     "execution_count": 44,
     "metadata": {},
     "output_type": "execute_result"
    }
   ],
   "source": [
    "df = pd.read_csv('study_data/storage_points.csv')\n",
    "df['avg_points_per_day'] = df.num_points / df.num_days\n",
    "df['avg_size_per_day'] = df.size_mb / df.num_days\n",
    "df = df.round(1)\n",
    "df"
   ]
  },
  {
   "cell_type": "code",
   "execution_count": 42,
   "metadata": {},
   "outputs": [],
   "source": [
    "df.to_csv('%s/storage_points.csv' % (DIRECTORY))"
   ]
  },
  {
   "cell_type": "code",
   "execution_count": null,
   "metadata": {},
   "outputs": [],
   "source": []
  },
  {
   "cell_type": "code",
   "execution_count": null,
   "metadata": {},
   "outputs": [],
   "source": []
  },
  {
   "cell_type": "code",
   "execution_count": null,
   "metadata": {},
   "outputs": [],
   "source": []
  },
  {
   "cell_type": "markdown",
   "metadata": {},
   "source": [
    "# Show gaps in the data"
   ]
  },
  {
   "cell_type": "code",
   "execution_count": 319,
   "metadata": {},
   "outputs": [],
   "source": [
    "#uid = 'd6b2d9b9-398b-4e0d-b52b-224747f515c8' # me\n",
    "#uid = 'ec110976-0192-436d-b451-4f5dd97e71d8' # diligent participant\n",
    "uid = 'dfe18eb9-791b-440d-8e55-61b6886904b2' # participant with many points"
   ]
  },
  {
   "cell_type": "code",
   "execution_count": 242,
   "metadata": {},
   "outputs": [
    {
     "name": "stdout",
     "output_type": "stream",
     "text": [
      "File doesnt exist!\n",
      "File doesnt exist!\n",
      "File doesnt exist!\n",
      "File doesnt exist!\n",
      "File doesnt exist!\n",
      "File doesnt exist!\n",
      "File doesnt exist!\n",
      "File doesnt exist!\n",
      "File doesnt exist!\n",
      "File doesnt exist!\n",
      "File doesnt exist!\n",
      "File doesnt exist!\n",
      "File doesnt exist!\n",
      "File doesnt exist!\n"
     ]
    }
   ],
   "source": [
    "points[uid] = get_points_data(uid)"
   ]
  },
  {
   "cell_type": "code",
   "execution_count": 320,
   "metadata": {},
   "outputs": [
    {
     "name": "stdout",
     "output_type": "stream",
     "text": [
      "Total number of points: 2232150\n"
     ]
    }
   ],
   "source": [
    "s = 0\n",
    "for x in points[uid]:\n",
    "    for y in x:\n",
    "        s += len(y)\n",
    "print('Total number of points:', s)"
   ]
  },
  {
   "cell_type": "code",
   "execution_count": 321,
   "metadata": {},
   "outputs": [],
   "source": [
    "# Get datetimes\n",
    "datetimes = []\n",
    "for day in points[uid]:\n",
    "    P = []\n",
    "    \n",
    "    # Extract datetimes as float\n",
    "    for p in day: P.append(p['datetime'])\n",
    "    \n",
    "    # Convert to datetime objects series\n",
    "    dt = pd.to_datetime(P, unit='ms') + + pd.Timedelta('02:00:00')\n",
    "    datetimes.append(dt)\n",
    "\n",
    "# Get dates\n",
    "dates = []\n",
    "for x in datetimes:\n",
    "    for y in x:\n",
    "        dates.append(y.normalize())\n",
    "dates = sorted(list(set(dates)))"
   ]
  },
  {
   "cell_type": "code",
   "execution_count": 322,
   "metadata": {},
   "outputs": [],
   "source": [
    "import matplotlib.pyplot as plt\n",
    "import matplotlib.dates as mdates\n",
    "\n",
    "# Hour formatting\n",
    "hours = mdates.HourLocator(interval = 1)\n",
    "h_fmt = mdates.DateFormatter('%H')"
   ]
  },
  {
   "cell_type": "code",
   "execution_count": 323,
   "metadata": {},
   "outputs": [
    {
     "data": {
      "image/png": "[encoded data removed]",
      "text/plain": [
       "<Figure size 720x828 with 23 Axes>"
      ]
     },
     "metadata": {
      "needs_background": "light"
     },
     "output_type": "display_data"
    }
   ],
   "source": [
    "height = 0.5\n",
    "n = len(datetimes)\n",
    "fig, ax = plt.subplots(n, 1, figsize=[10, n*height])\n",
    "\n",
    "for day in range(n):\n",
    "    N = len(datetimes[day])\n",
    "    min_time = dates[day]\n",
    "    max_time = dates[day].replace(hour=23, minute=59, second=59)\n",
    "    \n",
    "    ax[day].plot(datetimes[day], np.zeros(N), '|')\n",
    "    ax[day].set_yticks([])\n",
    "    ax[day].set_xlim([min_time, max_time])\n",
    "    ax[day].set_ylabel(str(dates[day])[:10], rotation=0, labelpad=35)\n",
    "\n",
    "    if day == n-1:\n",
    "\n",
    "        ax[day].xaxis.set_major_locator(hours)\n",
    "        ax[day].xaxis.set_major_formatter(h_fmt)\n",
    "        ax[day].set_xlabel('Hour of day',)\n",
    "    else:\n",
    "        ax[day].set_xticks([])\n",
    "    \n",
    "    \n",
    "    plt.savefig('plots/%s-gaps' % uid, dpi=300)"
   ]
  }
 ],
 "metadata": {
  "kernelspec": {
   "display_name": "Python 3",
   "language": "python",
   "name": "python3"
  },
  "language_info": {
   "codemirror_mode": {
    "name": "ipython",
    "version": 3
   },
   "file_extension": ".py",
   "mimetype": "text/x-python",
   "name": "python",
   "nbconvert_exporter": "python",
   "pygments_lexer": "ipython3",
   "version": "3.7.0"
  }
 },
 "nbformat": 4,
 "nbformat_minor": 2
}
